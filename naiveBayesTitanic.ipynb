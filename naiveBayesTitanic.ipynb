{
 "cells": [
  {
   "cell_type": "code",
   "execution_count": 2,
   "id": "d1efd2b9",
   "metadata": {},
   "outputs": [],
   "source": [
    "import findspark\n",
    "findspark.init()\n",
    "\n",
    "import pyspark \n",
    "from pyspark.sql import SparkSession\n",
    "\n",
    "spark = SparkSession.builder.appName(\"titanicClassification\").getOrCreate()"
   ]
  },
  {
   "cell_type": "code",
   "execution_count": 49,
   "id": "72fa2b34",
   "metadata": {},
   "outputs": [],
   "source": [
    "from pyspark.ml.feature import VectorAssembler\n",
    "from pyspark.sql.types import * \n",
    "from pyspark.sql.functions import *\n",
    "from pyspark.ml.feature import StringIndexer\n",
    "from pyspark.ml.feature import MinMaxScaler\n",
    "from pyspark.ml.classification import NaiveBayes\n",
    "from pyspark.ml.evaluation import BinaryClassificationEvaluator"
   ]
  },
  {
   "cell_type": "code",
   "execution_count": 50,
   "id": "6b943807",
   "metadata": {},
   "outputs": [
    {
     "data": {
      "text/html": [
       "<div>\n",
       "<style scoped>\n",
       "    .dataframe tbody tr th:only-of-type {\n",
       "        vertical-align: middle;\n",
       "    }\n",
       "\n",
       "    .dataframe tbody tr th {\n",
       "        vertical-align: top;\n",
       "    }\n",
       "\n",
       "    .dataframe thead th {\n",
       "        text-align: right;\n",
       "    }\n",
       "</style>\n",
       "<table border=\"1\" class=\"dataframe\">\n",
       "  <thead>\n",
       "    <tr style=\"text-align: right;\">\n",
       "      <th></th>\n",
       "      <th>Survived</th>\n",
       "      <th>Pclass</th>\n",
       "      <th>Name</th>\n",
       "      <th>Sex</th>\n",
       "      <th>Age</th>\n",
       "      <th>Siblings_Spouses Aboard</th>\n",
       "      <th>Parents/Children Aboard</th>\n",
       "      <th>Fare</th>\n",
       "    </tr>\n",
       "  </thead>\n",
       "  <tbody>\n",
       "    <tr>\n",
       "      <th>0</th>\n",
       "      <td>0</td>\n",
       "      <td>3</td>\n",
       "      <td>Mr. Owen Harris Braund</td>\n",
       "      <td>male</td>\n",
       "      <td>22.0</td>\n",
       "      <td>1</td>\n",
       "      <td>0</td>\n",
       "      <td>7.2500</td>\n",
       "    </tr>\n",
       "    <tr>\n",
       "      <th>1</th>\n",
       "      <td>1</td>\n",
       "      <td>1</td>\n",
       "      <td>Mrs. John Bradley (Florence Briggs Thayer) Cum...</td>\n",
       "      <td>female</td>\n",
       "      <td>38.0</td>\n",
       "      <td>1</td>\n",
       "      <td>0</td>\n",
       "      <td>71.2833</td>\n",
       "    </tr>\n",
       "    <tr>\n",
       "      <th>2</th>\n",
       "      <td>1</td>\n",
       "      <td>3</td>\n",
       "      <td>Miss. Laina Heikkinen</td>\n",
       "      <td>female</td>\n",
       "      <td>26.0</td>\n",
       "      <td>0</td>\n",
       "      <td>0</td>\n",
       "      <td>7.9250</td>\n",
       "    </tr>\n",
       "    <tr>\n",
       "      <th>3</th>\n",
       "      <td>1</td>\n",
       "      <td>1</td>\n",
       "      <td>Mrs. Jacques Heath (Lily May Peel) Futrelle</td>\n",
       "      <td>female</td>\n",
       "      <td>35.0</td>\n",
       "      <td>1</td>\n",
       "      <td>0</td>\n",
       "      <td>53.1000</td>\n",
       "    </tr>\n",
       "    <tr>\n",
       "      <th>4</th>\n",
       "      <td>0</td>\n",
       "      <td>3</td>\n",
       "      <td>Mr. William Henry Allen</td>\n",
       "      <td>male</td>\n",
       "      <td>35.0</td>\n",
       "      <td>0</td>\n",
       "      <td>0</td>\n",
       "      <td>8.0500</td>\n",
       "    </tr>\n",
       "    <tr>\n",
       "      <th>5</th>\n",
       "      <td>0</td>\n",
       "      <td>3</td>\n",
       "      <td>Mr. James Moran</td>\n",
       "      <td>male</td>\n",
       "      <td>27.0</td>\n",
       "      <td>0</td>\n",
       "      <td>0</td>\n",
       "      <td>8.4583</td>\n",
       "    </tr>\n",
       "  </tbody>\n",
       "</table>\n",
       "</div>"
      ],
      "text/plain": [
       "   Survived  Pclass                                               Name  \\\n",
       "0         0       3                             Mr. Owen Harris Braund   \n",
       "1         1       1  Mrs. John Bradley (Florence Briggs Thayer) Cum...   \n",
       "2         1       3                              Miss. Laina Heikkinen   \n",
       "3         1       1        Mrs. Jacques Heath (Lily May Peel) Futrelle   \n",
       "4         0       3                            Mr. William Henry Allen   \n",
       "5         0       3                                    Mr. James Moran   \n",
       "\n",
       "      Sex   Age  Siblings_Spouses Aboard  Parents/Children Aboard     Fare  \n",
       "0    male  22.0                        1                        0   7.2500  \n",
       "1  female  38.0                        1                        0  71.2833  \n",
       "2  female  26.0                        0                        0   7.9250  \n",
       "3  female  35.0                        1                        0  53.1000  \n",
       "4    male  35.0                        0                        0   8.0500  \n",
       "5    male  27.0                        0                        0   8.4583  "
      ]
     },
     "execution_count": 50,
     "metadata": {},
     "output_type": "execute_result"
    }
   ],
   "source": [
    "df = spark.read.csv('d:\\\\titanic.csv',inferSchema=True,header=True)\n",
    "df.limit(6).toPandas()"
   ]
  },
  {
   "cell_type": "code",
   "execution_count": 51,
   "id": "e9db13cc",
   "metadata": {},
   "outputs": [
    {
     "name": "stdout",
     "output_type": "stream",
     "text": [
      "root\n",
      " |-- Survived: integer (nullable = true)\n",
      " |-- Pclass: integer (nullable = true)\n",
      " |-- Name: string (nullable = true)\n",
      " |-- Sex: string (nullable = true)\n",
      " |-- Age: double (nullable = true)\n",
      " |-- Siblings_Spouses Aboard: integer (nullable = true)\n",
      " |-- Parents/Children Aboard: integer (nullable = true)\n",
      " |-- Fare: double (nullable = true)\n",
      "\n"
     ]
    }
   ],
   "source": [
    "df.printSchema()"
   ]
  },
  {
   "cell_type": "code",
   "execution_count": 52,
   "id": "848a00ea",
   "metadata": {},
   "outputs": [
    {
     "name": "stdout",
     "output_type": "stream",
     "text": [
      "+--------+----+-----+\n",
      "|Survived| Age|count|\n",
      "+--------+----+-----+\n",
      "|       0| 9.0|    6|\n",
      "|       1|30.0|   10|\n",
      "|       1|80.0|    1|\n",
      "|       1|18.0|   13|\n",
      "|       1| 6.0|    2|\n",
      "|       0|66.0|    2|\n",
      "|       0|49.0|    4|\n",
      "|       1|40.0|    7|\n",
      "|       0|22.0|   24|\n",
      "|       0|32.0|   11|\n",
      "|       1| 7.0|    2|\n",
      "|       0|16.0|   13|\n",
      "|       0| 2.0|    7|\n",
      "|       0|11.0|    3|\n",
      "|       0|41.0|    6|\n",
      "|       0|15.0|    1|\n",
      "|       0|55.0|    2|\n",
      "|       1|62.0|    2|\n",
      "|       0|51.0|    5|\n",
      "|       1|14.0|    3|\n",
      "+--------+----+-----+\n",
      "only showing top 20 rows\n",
      "\n"
     ]
    }
   ],
   "source": [
    "df.groupBy(\"Survived\",'Age').count().show()"
   ]
  },
  {
   "cell_type": "code",
   "execution_count": 53,
   "id": "3ffece31",
   "metadata": {},
   "outputs": [
    {
     "name": "stdout",
     "output_type": "stream",
     "text": [
      "['Age', 'Siblings_Spouses Aboard']\n",
      "Survived\n"
     ]
    }
   ],
   "source": [
    "input_columns=df.columns\n",
    "input_columns=input_columns[4:6]\n",
    "dependent_var='Survived'\n",
    "print(input_columns)\n",
    "print(dependent_var)"
   ]
  },
  {
   "cell_type": "code",
   "execution_count": 54,
   "id": "136ac4d1",
   "metadata": {},
   "outputs": [
    {
     "name": "stdout",
     "output_type": "stream",
     "text": [
      "+--------+------+--------------------+------+----+-----------------------+-----------------------+-------+---------+-----+\n",
      "|Survived|Pclass|                Name|   Sex| Age|Siblings_Spouses Aboard|Parents/Children Aboard|   Fare|label_str|label|\n",
      "+--------+------+--------------------+------+----+-----------------------+-----------------------+-------+---------+-----+\n",
      "|       0|     3|Mr. Owen Harris B...|  male|22.0|                      1|                      0|   7.25|        0|  0.0|\n",
      "|       1|     1|Mrs. John Bradley...|female|38.0|                      1|                      0|71.2833|        1|  1.0|\n",
      "|       1|     3|Miss. Laina Heikk...|female|26.0|                      0|                      0|  7.925|        1|  1.0|\n",
      "|       1|     1|Mrs. Jacques Heat...|female|35.0|                      1|                      0|   53.1|        1|  1.0|\n",
      "|       0|     3|Mr. William Henry...|  male|35.0|                      0|                      0|   8.05|        0|  0.0|\n",
      "|       0|     3|     Mr. James Moran|  male|27.0|                      0|                      0| 8.4583|        0|  0.0|\n",
      "|       0|     1|Mr. Timothy J McC...|  male|54.0|                      0|                      0|51.8625|        0|  0.0|\n",
      "|       0|     3|Master. Gosta Leo...|  male| 2.0|                      3|                      1| 21.075|        0|  0.0|\n",
      "|       1|     3|Mrs. Oscar W (Eli...|female|27.0|                      0|                      2|11.1333|        1|  1.0|\n",
      "|       1|     2|Mrs. Nicholas (Ad...|female|14.0|                      1|                      0|30.0708|        1|  1.0|\n",
      "|       1|     3|Miss. Marguerite ...|female| 4.0|                      1|                      1|   16.7|        1|  1.0|\n",
      "|       1|     1|Miss. Elizabeth B...|female|58.0|                      0|                      0|  26.55|        1|  1.0|\n",
      "|       0|     3|Mr. William Henry...|  male|20.0|                      0|                      0|   8.05|        0|  0.0|\n",
      "|       0|     3|Mr. Anders Johan ...|  male|39.0|                      1|                      5| 31.275|        0|  0.0|\n",
      "|       0|     3|Miss. Hulda Amand...|female|14.0|                      0|                      0| 7.8542|        0|  0.0|\n",
      "|       1|     2|Mrs. (Mary D King...|female|55.0|                      0|                      0|   16.0|        1|  1.0|\n",
      "|       0|     3| Master. Eugene Rice|  male| 2.0|                      4|                      1| 29.125|        0|  0.0|\n",
      "|       1|     2|Mr. Charles Eugen...|  male|23.0|                      0|                      0|   13.0|        1|  1.0|\n",
      "|       0|     3|Mrs. Julius (Emel...|female|31.0|                      1|                      0|   18.0|        0|  0.0|\n",
      "|       1|     3|Mrs. Fatima Masse...|female|22.0|                      0|                      0|  7.225|        1|  1.0|\n",
      "+--------+------+--------------------+------+----+-----------------------+-----------------------+-------+---------+-----+\n",
      "only showing top 20 rows\n",
      "\n"
     ]
    }
   ],
   "source": [
    "renamed=df.withColumn(\"label_str\",df[dependent_var].cast('string'))\n",
    "indexer=StringIndexer(inputCol='label_str',outputCol=\"label\")\n",
    "indexed=indexer.fit(renamed).transform(renamed)\n",
    "indexed.show()"
   ]
  },
  {
   "cell_type": "code",
   "execution_count": 55,
   "id": "665128b8",
   "metadata": {},
   "outputs": [
    {
     "name": "stdout",
     "output_type": "stream",
     "text": [
      "root\n",
      " |-- Survived: integer (nullable = true)\n",
      " |-- Pclass: integer (nullable = true)\n",
      " |-- Name: string (nullable = true)\n",
      " |-- Sex: string (nullable = true)\n",
      " |-- Age: double (nullable = true)\n",
      " |-- Siblings_Spouses Aboard: integer (nullable = true)\n",
      " |-- Parents/Children Aboard: integer (nullable = true)\n",
      " |-- Fare: double (nullable = true)\n",
      " |-- label_str: string (nullable = true)\n",
      " |-- label: double (nullable = false)\n",
      "\n"
     ]
    }
   ],
   "source": [
    "indexed.printSchema()"
   ]
  },
  {
   "cell_type": "code",
   "execution_count": 56,
   "id": "dea35e20",
   "metadata": {},
   "outputs": [
    {
     "name": "stdout",
     "output_type": "stream",
     "text": [
      "numeric_inputs ['Age', 'Siblings_Spouses Aboard']\n",
      "String_inputs []\n"
     ]
    }
   ],
   "source": [
    "numeric_inputs=[]\n",
    "string_inputs=[]\n",
    "for column in input_columns:\n",
    "    if str(indexed.schema[column].dataType)=='StringType':\n",
    "        indexer=StringIndexer(inputCol=column,outputCol=column+\"_num\")\n",
    "        indexed=indexer.fit(indexed).transform(indexed)\n",
    "        new_col_name=column+\"_num\"\n",
    "        string_inputs.append(new_col_name)\n",
    "    else:\n",
    "        numeric_inputs.append(column)\n",
    "print('numeric_inputs' , numeric_inputs)\n",
    "print('String_inputs' , string_inputs)"
   ]
  },
  {
   "cell_type": "code",
   "execution_count": 57,
   "id": "3289cdc4",
   "metadata": {},
   "outputs": [
    {
     "name": "stdout",
     "output_type": "stream",
     "text": [
      "Siblings_Spouses Aboard has been treated for positive (right) skewness. (skew =) 3.6805221729276023 )\n",
      "3.6805221729276023\n"
     ]
    }
   ],
   "source": [
    "# Treat for skewness\n",
    "d = {}\n",
    "\n",
    "for col in numeric_inputs: \n",
    "    d[col] = indexed.approxQuantile(col,[0.01,0.99],0.25) \n",
    "\n",
    "for col in numeric_inputs:\n",
    "    skew = indexed.agg(skewness(indexed[col])).collect() \n",
    "    skew = skew[0][0]\n",
    "   \n",
    "    if skew > 1:\n",
    "        indexed = indexed.withColumn(col, \\\n",
    "        log(when(df[col] < d[col][0],d[col][0])\\\n",
    "        .when(indexed[col] > d[col][1], d[col][1])\\\n",
    "        .otherwise(indexed[col] ) +1).alias(col))\n",
    "        print(col+\" has been treated for positive (right) skewness. (skew =)\",skew,\")\")\n",
    "    elif skew < -1:\n",
    "        indexed = indexed.withColumn(col, \\\n",
    "        exp(when(df[col] < d[col][0],d[col][0])\\\n",
    "        .when(indexed[col] > d[col][1], d[col][1])\\\n",
    "        .otherwise(indexed[col] )).alias(col))\n",
    "        print(col+\" has been treated for negative (left) skewness. (skew =\",skew,\")\")\n",
    "        \n",
    "print(skew)        "
   ]
  },
  {
   "cell_type": "code",
   "execution_count": 58,
   "id": "2311919a",
   "metadata": {},
   "outputs": [
    {
     "name": "stdout",
     "output_type": "stream",
     "text": [
      "No negative values were found in your dataframe.\n"
     ]
    }
   ],
   "source": [
    "minimums = df.select([min(c).alias(c) for c in df.columns if c in numeric_inputs]) \n",
    "\n",
    "min_array = minimums.select(array(numeric_inputs).alias(\"mins\")) \n",
    "\n",
    "df_minimum = min_array.select(array_min(min_array.mins)).collect() \n",
    "\n",
    "df_minimum = df_minimum[0][0] \n",
    "\n",
    "\n",
    "if df_minimum < 0:\n",
    "    print(\"WARNING: The Naive Bayes Classifier will not be able to process your dataframe as it contains negative values\")\n",
    "else:\n",
    "    print(\"No negative values were found in your dataframe.\")"
   ]
  },
  {
   "cell_type": "code",
   "execution_count": 59,
   "id": "c8b13645",
   "metadata": {},
   "outputs": [
    {
     "name": "stdout",
     "output_type": "stream",
     "text": [
      "+-------------------------+-----+\n",
      "|features                 |label|\n",
      "+-------------------------+-----+\n",
      "|[22.0,0.6931471805599453]|0.0  |\n",
      "|[38.0,0.6931471805599453]|1.0  |\n",
      "|[26.0,0.0]               |1.0  |\n",
      "|[35.0,0.6931471805599453]|1.0  |\n",
      "|[35.0,0.0]               |0.0  |\n",
      "+-------------------------+-----+\n",
      "only showing top 5 rows\n",
      "\n"
     ]
    }
   ],
   "source": [
    "features_list = numeric_inputs + string_inputs\n",
    "assembler = VectorAssembler(inputCols=features_list,outputCol='features')\n",
    "\n",
    "output = assembler.transform(indexed).select('features','label')\n",
    "output.show(5,False)"
   ]
  },
  {
   "cell_type": "code",
   "execution_count": 60,
   "id": "59713bc4",
   "metadata": {},
   "outputs": [
    {
     "name": "stdout",
     "output_type": "stream",
     "text": [
      "Features scaled to range: [0.000000, 1000.000000]\n",
      "+-----+--------------------+\n",
      "|label|            features|\n",
      "+-----+--------------------+\n",
      "|  0.0|[271.173661724051...|\n",
      "|  1.0|[472.229203317416...|\n",
      "|  1.0|[321.437547122392...|\n",
      "|  1.0|[434.531289268660...|\n",
      "|  0.0|[434.531289268660...|\n",
      "|  0.0|[334.003518471977...|\n",
      "|  0.0|[673.284744910781...|\n",
      "|  0.0|[19.8542347323448...|\n",
      "|  1.0|[334.003518471977...|\n",
      "|  1.0|[170.645890927368...|\n",
      "|  1.0|[44.9861774315154...|\n",
      "|  1.0|[723.548630309122...|\n",
      "|  0.0|[246.041719024880...|\n",
      "|  0.0|[484.795174667001...|\n",
      "|  0.0|[170.645890927368...|\n",
      "|  1.0|[685.850716260367...|\n",
      "|  0.0|[19.8542347323448...|\n",
      "|  1.0|[283.739633073636...|\n",
      "|  0.0|[384.267403870319...|\n",
      "|  1.0|[271.173661724051...|\n",
      "+-----+--------------------+\n",
      "only showing top 20 rows\n",
      "\n"
     ]
    }
   ],
   "source": [
    "scaler = MinMaxScaler(inputCol=\"features\", outputCol=\"scaledFeatures\",min=0,max=1000)\n",
    "print(\"Features scaled to range: [%f, %f]\" % (scaler.getMin(), scaler.getMax()))\n",
    "\n",
    "\n",
    "scalerModel = scaler.fit(output)\n",
    "\n",
    "\n",
    "scaled_data = scalerModel.transform(output)\n",
    "final_data = scaled_data.select('label','scaledFeatures')\n",
    "\n",
    "final_data = final_data.withColumnRenamed(\"scaledFeatures\",\"features\")\n",
    "final_data.show()"
   ]
  },
  {
   "cell_type": "code",
   "execution_count": 61,
   "id": "9605921d",
   "metadata": {},
   "outputs": [],
   "source": [
    "train,test = final_data.randomSplit([0.70,0.30])"
   ]
  },
  {
   "cell_type": "code",
   "execution_count": 62,
   "id": "4719d79a",
   "metadata": {},
   "outputs": [],
   "source": [
    "naiveclassifier=NaiveBayes()\n",
    "navieModel = naiveclassifier.fit(train)\n"
   ]
  },
  {
   "cell_type": "code",
   "execution_count": 63,
   "id": "c837c728",
   "metadata": {},
   "outputs": [],
   "source": [
    "predictions = navieModel.transform(test)"
   ]
  },
  {
   "cell_type": "code",
   "execution_count": 64,
   "id": "19d6f3e9",
   "metadata": {},
   "outputs": [
    {
     "name": "stdout",
     "output_type": "stream",
     "text": [
      "root\n",
      " |-- label: double (nullable = false)\n",
      " |-- features: vector (nullable = true)\n",
      " |-- rawPrediction: vector (nullable = true)\n",
      " |-- probability: vector (nullable = true)\n",
      " |-- prediction: double (nullable = false)\n",
      "\n",
      "+-----+--------------------+--------------------+----------+\n",
      "|label|       rawPrediction|         probability|prediction|\n",
      "+-----+--------------------+--------------------+----------+\n",
      "|  0.0|[-1025.5920404004...|[1.32476714676256...|       1.0|\n",
      "|  0.0|[-1141.4832440677...|[8.08304234209895...|       1.0|\n",
      "|  0.0|[-887.32460570308...|[3.21821767156518...|       1.0|\n",
      "|  0.0|[-1029.1639756994...|[2.23565666338175...|       1.0|\n",
      "|  0.0|[-1047.0236521941...|[3.06008086683512...|       1.0|\n",
      "|  0.0|[-908.75621749675...|[7.43376399855233...|       1.0|\n",
      "|  0.0|[-1054.1675227920...|[8.71493237510997...|       1.0|\n",
      "|  0.0|[-34.713436485702...|[0.99576661003354...|       0.0|\n",
      "|  0.0|[-1061.3113933899...|[2.48196206596543...|       1.0|\n",
      "|  0.0|[-1177.2025970572...|[1.51436458246399...|       1.0|\n",
      "|  0.0|[-49.001177681479...|[0.99947610904780...|       0.0|\n",
      "|  0.0|[-1445.6489766176...|[3.08497833542628...|       1.0|\n",
      "|  0.0|[-56.145048279368...|[0.99981598321541...|       0.0|\n",
      "|  0.0|[-496.73837408383...|[5.15463525049378...|       1.0|\n",
      "|  0.0|[-496.73837408383...|[5.15463525049378...|       1.0|\n",
      "|  0.0|[-754.46894774747...|[2.18485659505723...|       1.0|\n",
      "|  0.0|[-59.716983578312...|[0.99989095030848...|       0.0|\n",
      "|  0.0|[-63.288918877257...|[0.99993537832974...|       0.0|\n",
      "|  0.0|[-63.288918877257...|[0.99993537832974...|       0.0|\n",
      "|  0.0|[-63.288918877257...|[0.99993537832974...|       0.0|\n",
      "+-----+--------------------+--------------------+----------+\n",
      "only showing top 20 rows\n",
      "\n"
     ]
    }
   ],
   "source": [
    "predictions.printSchema()\n",
    "predictions.select('label','rawPrediction','probability','prediction').show()"
   ]
  },
  {
   "cell_type": "code",
   "execution_count": 65,
   "id": "cfed74fa",
   "metadata": {},
   "outputs": [
    {
     "name": "stdout",
     "output_type": "stream",
     "text": [
      "Accuracy of Model : 0.4658256880733945\n",
      "Test Error of Model : 0.5341743119266056\n"
     ]
    }
   ],
   "source": [
    "evaluator=BinaryClassificationEvaluator();\n",
    "accuracy = evaluator.evaluate(predictions)\n",
    "print(\"Accuracy of Model :\" , accuracy)\n",
    "print(\"Test Error of Model :\" , 1-accuracy)"
   ]
  },
  {
   "cell_type": "code",
   "execution_count": null,
   "id": "702b9806",
   "metadata": {},
   "outputs": [],
   "source": []
  },
  {
   "cell_type": "code",
   "execution_count": null,
   "id": "eb5f45b7",
   "metadata": {},
   "outputs": [],
   "source": []
  }
 ],
 "metadata": {
  "kernelspec": {
   "display_name": "Python 3 (ipykernel)",
   "language": "python",
   "name": "python3"
  },
  "language_info": {
   "codemirror_mode": {
    "name": "ipython",
    "version": 3
   },
   "file_extension": ".py",
   "mimetype": "text/x-python",
   "name": "python",
   "nbconvert_exporter": "python",
   "pygments_lexer": "ipython3",
   "version": "3.9.7"
  }
 },
 "nbformat": 4,
 "nbformat_minor": 5
}
